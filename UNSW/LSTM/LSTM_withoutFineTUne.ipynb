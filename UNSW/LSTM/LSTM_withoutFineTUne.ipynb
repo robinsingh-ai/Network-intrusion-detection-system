{
 "cells": [
  {
   "cell_type": "code",
   "execution_count": 1,
   "id": "f9a80326",
   "metadata": {},
   "outputs": [
    {
     "name": "stderr",
     "output_type": "stream",
     "text": [
      "2024-03-30 20:14:06.000093: E tensorflow/compiler/xla/stream_executor/cuda/cuda_dnn.cc:9342] Unable to register cuDNN factory: Attempting to register factory for plugin cuDNN when one has already been registered\n",
      "2024-03-30 20:14:06.000140: E tensorflow/compiler/xla/stream_executor/cuda/cuda_fft.cc:609] Unable to register cuFFT factory: Attempting to register factory for plugin cuFFT when one has already been registered\n",
      "2024-03-30 20:14:06.000178: E tensorflow/compiler/xla/stream_executor/cuda/cuda_blas.cc:1518] Unable to register cuBLAS factory: Attempting to register factory for plugin cuBLAS when one has already been registered\n",
      "2024-03-30 20:14:06.009075: I tensorflow/core/platform/cpu_feature_guard.cc:182] This TensorFlow binary is optimized to use available CPU instructions in performance-critical operations.\n",
      "To enable the following instructions: AVX2 FMA, in other operations, rebuild TensorFlow with the appropriate compiler flags.\n"
     ]
    }
   ],
   "source": [
    "# Basic imports\n",
    "import numpy as np \n",
    "import pandas as pd \n",
    "from sklearn.model_selection import train_test_split\n",
    "from sklearn.preprocessing import LabelEncoder, MinMaxScaler,OneHotEncoder\n",
    "from imblearn.pipeline import Pipeline\n",
    "from imblearn.over_sampling import SMOTE\n",
    "from imblearn.under_sampling import RandomUnderSampler\n",
    "import tensorflow as tf\n",
    "from tensorflow.keras.models import Sequential\n",
    "from tensorflow.keras.layers import Dense, Conv1D, Flatten, Dropout, MaxPooling1D, BatchNormalization, LSTM, SpatialDropout1D,Bidirectional, Activation\n",
    "from tensorflow.keras.callbacks import EarlyStopping, ReduceLROnPlateau\n",
    "from tensorflow.keras.utils import to_categorical\n",
    "from tensorflow.keras import models, layers, optimizers\n",
    "from sklearn.metrics import classification_report, confusion_matrix, accuracy_score\n",
    "import matplotlib.pyplot as plt\n",
    "import seaborn as sns\n",
    "from tensorflow.keras.optimizers import Nadam\n",
    "from tensorflow.keras.preprocessing.sequence import TimeseriesGenerator"
   ]
  },
  {
   "cell_type": "code",
   "execution_count": 2,
   "id": "840e99b8",
   "metadata": {},
   "outputs": [],
   "source": [
    "train = pd.read_csv(r\"../unsw_dataset/UNSW_NB15_training-set.csv\")\n",
    "test = pd.read_csv(r\"../unsw_dataset/UNSW_NB15_testing-set.csv\")\n"
   ]
  },
  {
   "cell_type": "code",
   "execution_count": 3,
   "id": "44c34bbe",
   "metadata": {},
   "outputs": [],
   "source": [
    "df = pd.concat([train,test])"
   ]
  },
  {
   "cell_type": "code",
   "execution_count": 4,
   "id": "f2490035",
   "metadata": {},
   "outputs": [
    {
     "data": {
      "text/html": [
       "<div>\n",
       "<style scoped>\n",
       "    .dataframe tbody tr th:only-of-type {\n",
       "        vertical-align: middle;\n",
       "    }\n",
       "\n",
       "    .dataframe tbody tr th {\n",
       "        vertical-align: top;\n",
       "    }\n",
       "\n",
       "    .dataframe thead th {\n",
       "        text-align: right;\n",
       "    }\n",
       "</style>\n",
       "<table border=\"1\" class=\"dataframe\">\n",
       "  <thead>\n",
       "    <tr style=\"text-align: right;\">\n",
       "      <th></th>\n",
       "      <th>id</th>\n",
       "      <th>dur</th>\n",
       "      <th>proto</th>\n",
       "      <th>service</th>\n",
       "      <th>state</th>\n",
       "      <th>spkts</th>\n",
       "      <th>dpkts</th>\n",
       "      <th>sbytes</th>\n",
       "      <th>dbytes</th>\n",
       "      <th>rate</th>\n",
       "      <th>...</th>\n",
       "      <th>ct_dst_sport_ltm</th>\n",
       "      <th>ct_dst_src_ltm</th>\n",
       "      <th>is_ftp_login</th>\n",
       "      <th>ct_ftp_cmd</th>\n",
       "      <th>ct_flw_http_mthd</th>\n",
       "      <th>ct_src_ltm</th>\n",
       "      <th>ct_srv_dst</th>\n",
       "      <th>is_sm_ips_ports</th>\n",
       "      <th>attack_cat</th>\n",
       "      <th>label</th>\n",
       "    </tr>\n",
       "  </thead>\n",
       "  <tbody>\n",
       "    <tr>\n",
       "      <th>0</th>\n",
       "      <td>1</td>\n",
       "      <td>0.000011</td>\n",
       "      <td>udp</td>\n",
       "      <td>-</td>\n",
       "      <td>INT</td>\n",
       "      <td>2</td>\n",
       "      <td>0</td>\n",
       "      <td>496</td>\n",
       "      <td>0</td>\n",
       "      <td>90909.090200</td>\n",
       "      <td>...</td>\n",
       "      <td>1</td>\n",
       "      <td>2</td>\n",
       "      <td>0</td>\n",
       "      <td>0</td>\n",
       "      <td>0</td>\n",
       "      <td>1</td>\n",
       "      <td>2</td>\n",
       "      <td>0</td>\n",
       "      <td>Normal</td>\n",
       "      <td>0</td>\n",
       "    </tr>\n",
       "    <tr>\n",
       "      <th>1</th>\n",
       "      <td>2</td>\n",
       "      <td>0.000008</td>\n",
       "      <td>udp</td>\n",
       "      <td>-</td>\n",
       "      <td>INT</td>\n",
       "      <td>2</td>\n",
       "      <td>0</td>\n",
       "      <td>1762</td>\n",
       "      <td>0</td>\n",
       "      <td>125000.000300</td>\n",
       "      <td>...</td>\n",
       "      <td>1</td>\n",
       "      <td>2</td>\n",
       "      <td>0</td>\n",
       "      <td>0</td>\n",
       "      <td>0</td>\n",
       "      <td>1</td>\n",
       "      <td>2</td>\n",
       "      <td>0</td>\n",
       "      <td>Normal</td>\n",
       "      <td>0</td>\n",
       "    </tr>\n",
       "    <tr>\n",
       "      <th>2</th>\n",
       "      <td>3</td>\n",
       "      <td>0.000005</td>\n",
       "      <td>udp</td>\n",
       "      <td>-</td>\n",
       "      <td>INT</td>\n",
       "      <td>2</td>\n",
       "      <td>0</td>\n",
       "      <td>1068</td>\n",
       "      <td>0</td>\n",
       "      <td>200000.005100</td>\n",
       "      <td>...</td>\n",
       "      <td>1</td>\n",
       "      <td>3</td>\n",
       "      <td>0</td>\n",
       "      <td>0</td>\n",
       "      <td>0</td>\n",
       "      <td>1</td>\n",
       "      <td>3</td>\n",
       "      <td>0</td>\n",
       "      <td>Normal</td>\n",
       "      <td>0</td>\n",
       "    </tr>\n",
       "    <tr>\n",
       "      <th>3</th>\n",
       "      <td>4</td>\n",
       "      <td>0.000006</td>\n",
       "      <td>udp</td>\n",
       "      <td>-</td>\n",
       "      <td>INT</td>\n",
       "      <td>2</td>\n",
       "      <td>0</td>\n",
       "      <td>900</td>\n",
       "      <td>0</td>\n",
       "      <td>166666.660800</td>\n",
       "      <td>...</td>\n",
       "      <td>1</td>\n",
       "      <td>3</td>\n",
       "      <td>0</td>\n",
       "      <td>0</td>\n",
       "      <td>0</td>\n",
       "      <td>2</td>\n",
       "      <td>3</td>\n",
       "      <td>0</td>\n",
       "      <td>Normal</td>\n",
       "      <td>0</td>\n",
       "    </tr>\n",
       "    <tr>\n",
       "      <th>4</th>\n",
       "      <td>5</td>\n",
       "      <td>0.000010</td>\n",
       "      <td>udp</td>\n",
       "      <td>-</td>\n",
       "      <td>INT</td>\n",
       "      <td>2</td>\n",
       "      <td>0</td>\n",
       "      <td>2126</td>\n",
       "      <td>0</td>\n",
       "      <td>100000.002500</td>\n",
       "      <td>...</td>\n",
       "      <td>1</td>\n",
       "      <td>3</td>\n",
       "      <td>0</td>\n",
       "      <td>0</td>\n",
       "      <td>0</td>\n",
       "      <td>2</td>\n",
       "      <td>3</td>\n",
       "      <td>0</td>\n",
       "      <td>Normal</td>\n",
       "      <td>0</td>\n",
       "    </tr>\n",
       "    <tr>\n",
       "      <th>...</th>\n",
       "      <td>...</td>\n",
       "      <td>...</td>\n",
       "      <td>...</td>\n",
       "      <td>...</td>\n",
       "      <td>...</td>\n",
       "      <td>...</td>\n",
       "      <td>...</td>\n",
       "      <td>...</td>\n",
       "      <td>...</td>\n",
       "      <td>...</td>\n",
       "      <td>...</td>\n",
       "      <td>...</td>\n",
       "      <td>...</td>\n",
       "      <td>...</td>\n",
       "      <td>...</td>\n",
       "      <td>...</td>\n",
       "      <td>...</td>\n",
       "      <td>...</td>\n",
       "      <td>...</td>\n",
       "      <td>...</td>\n",
       "      <td>...</td>\n",
       "    </tr>\n",
       "    <tr>\n",
       "      <th>175336</th>\n",
       "      <td>175337</td>\n",
       "      <td>0.000009</td>\n",
       "      <td>udp</td>\n",
       "      <td>dns</td>\n",
       "      <td>INT</td>\n",
       "      <td>2</td>\n",
       "      <td>0</td>\n",
       "      <td>114</td>\n",
       "      <td>0</td>\n",
       "      <td>111111.107200</td>\n",
       "      <td>...</td>\n",
       "      <td>13</td>\n",
       "      <td>24</td>\n",
       "      <td>0</td>\n",
       "      <td>0</td>\n",
       "      <td>0</td>\n",
       "      <td>24</td>\n",
       "      <td>24</td>\n",
       "      <td>0</td>\n",
       "      <td>Generic</td>\n",
       "      <td>1</td>\n",
       "    </tr>\n",
       "    <tr>\n",
       "      <th>175337</th>\n",
       "      <td>175338</td>\n",
       "      <td>0.505762</td>\n",
       "      <td>tcp</td>\n",
       "      <td>-</td>\n",
       "      <td>FIN</td>\n",
       "      <td>10</td>\n",
       "      <td>8</td>\n",
       "      <td>620</td>\n",
       "      <td>354</td>\n",
       "      <td>33.612649</td>\n",
       "      <td>...</td>\n",
       "      <td>1</td>\n",
       "      <td>2</td>\n",
       "      <td>0</td>\n",
       "      <td>0</td>\n",
       "      <td>0</td>\n",
       "      <td>1</td>\n",
       "      <td>1</td>\n",
       "      <td>0</td>\n",
       "      <td>Shellcode</td>\n",
       "      <td>1</td>\n",
       "    </tr>\n",
       "    <tr>\n",
       "      <th>175338</th>\n",
       "      <td>175339</td>\n",
       "      <td>0.000009</td>\n",
       "      <td>udp</td>\n",
       "      <td>dns</td>\n",
       "      <td>INT</td>\n",
       "      <td>2</td>\n",
       "      <td>0</td>\n",
       "      <td>114</td>\n",
       "      <td>0</td>\n",
       "      <td>111111.107200</td>\n",
       "      <td>...</td>\n",
       "      <td>3</td>\n",
       "      <td>13</td>\n",
       "      <td>0</td>\n",
       "      <td>0</td>\n",
       "      <td>0</td>\n",
       "      <td>3</td>\n",
       "      <td>12</td>\n",
       "      <td>0</td>\n",
       "      <td>Generic</td>\n",
       "      <td>1</td>\n",
       "    </tr>\n",
       "    <tr>\n",
       "      <th>175339</th>\n",
       "      <td>175340</td>\n",
       "      <td>0.000009</td>\n",
       "      <td>udp</td>\n",
       "      <td>dns</td>\n",
       "      <td>INT</td>\n",
       "      <td>2</td>\n",
       "      <td>0</td>\n",
       "      <td>114</td>\n",
       "      <td>0</td>\n",
       "      <td>111111.107200</td>\n",
       "      <td>...</td>\n",
       "      <td>14</td>\n",
       "      <td>30</td>\n",
       "      <td>0</td>\n",
       "      <td>0</td>\n",
       "      <td>0</td>\n",
       "      <td>30</td>\n",
       "      <td>30</td>\n",
       "      <td>0</td>\n",
       "      <td>Generic</td>\n",
       "      <td>1</td>\n",
       "    </tr>\n",
       "    <tr>\n",
       "      <th>175340</th>\n",
       "      <td>175341</td>\n",
       "      <td>0.000009</td>\n",
       "      <td>udp</td>\n",
       "      <td>dns</td>\n",
       "      <td>INT</td>\n",
       "      <td>2</td>\n",
       "      <td>0</td>\n",
       "      <td>114</td>\n",
       "      <td>0</td>\n",
       "      <td>111111.107200</td>\n",
       "      <td>...</td>\n",
       "      <td>16</td>\n",
       "      <td>30</td>\n",
       "      <td>0</td>\n",
       "      <td>0</td>\n",
       "      <td>0</td>\n",
       "      <td>30</td>\n",
       "      <td>30</td>\n",
       "      <td>0</td>\n",
       "      <td>Generic</td>\n",
       "      <td>1</td>\n",
       "    </tr>\n",
       "  </tbody>\n",
       "</table>\n",
       "<p>257673 rows × 45 columns</p>\n",
       "</div>"
      ],
      "text/plain": [
       "            id       dur proto service state  spkts  dpkts  sbytes  dbytes  \\\n",
       "0            1  0.000011   udp       -   INT      2      0     496       0   \n",
       "1            2  0.000008   udp       -   INT      2      0    1762       0   \n",
       "2            3  0.000005   udp       -   INT      2      0    1068       0   \n",
       "3            4  0.000006   udp       -   INT      2      0     900       0   \n",
       "4            5  0.000010   udp       -   INT      2      0    2126       0   \n",
       "...        ...       ...   ...     ...   ...    ...    ...     ...     ...   \n",
       "175336  175337  0.000009   udp     dns   INT      2      0     114       0   \n",
       "175337  175338  0.505762   tcp       -   FIN     10      8     620     354   \n",
       "175338  175339  0.000009   udp     dns   INT      2      0     114       0   \n",
       "175339  175340  0.000009   udp     dns   INT      2      0     114       0   \n",
       "175340  175341  0.000009   udp     dns   INT      2      0     114       0   \n",
       "\n",
       "                 rate  ...  ct_dst_sport_ltm  ct_dst_src_ltm  is_ftp_login  \\\n",
       "0        90909.090200  ...                 1               2             0   \n",
       "1       125000.000300  ...                 1               2             0   \n",
       "2       200000.005100  ...                 1               3             0   \n",
       "3       166666.660800  ...                 1               3             0   \n",
       "4       100000.002500  ...                 1               3             0   \n",
       "...               ...  ...               ...             ...           ...   \n",
       "175336  111111.107200  ...                13              24             0   \n",
       "175337      33.612649  ...                 1               2             0   \n",
       "175338  111111.107200  ...                 3              13             0   \n",
       "175339  111111.107200  ...                14              30             0   \n",
       "175340  111111.107200  ...                16              30             0   \n",
       "\n",
       "        ct_ftp_cmd  ct_flw_http_mthd  ct_src_ltm  ct_srv_dst  is_sm_ips_ports  \\\n",
       "0                0                 0           1           2                0   \n",
       "1                0                 0           1           2                0   \n",
       "2                0                 0           1           3                0   \n",
       "3                0                 0           2           3                0   \n",
       "4                0                 0           2           3                0   \n",
       "...            ...               ...         ...         ...              ...   \n",
       "175336           0                 0          24          24                0   \n",
       "175337           0                 0           1           1                0   \n",
       "175338           0                 0           3          12                0   \n",
       "175339           0                 0          30          30                0   \n",
       "175340           0                 0          30          30                0   \n",
       "\n",
       "        attack_cat  label  \n",
       "0           Normal      0  \n",
       "1           Normal      0  \n",
       "2           Normal      0  \n",
       "3           Normal      0  \n",
       "4           Normal      0  \n",
       "...            ...    ...  \n",
       "175336     Generic      1  \n",
       "175337   Shellcode      1  \n",
       "175338     Generic      1  \n",
       "175339     Generic      1  \n",
       "175340     Generic      1  \n",
       "\n",
       "[257673 rows x 45 columns]"
      ]
     },
     "execution_count": 4,
     "metadata": {},
     "output_type": "execute_result"
    }
   ],
   "source": [
    "df"
   ]
  },
  {
   "cell_type": "code",
   "execution_count": 5,
   "id": "d846c493",
   "metadata": {},
   "outputs": [
    {
     "name": "stdout",
     "output_type": "stream",
     "text": [
      "<class 'pandas.core.frame.DataFrame'>\n",
      "Index: 257673 entries, 0 to 175340\n",
      "Data columns (total 45 columns):\n",
      " #   Column             Non-Null Count   Dtype  \n",
      "---  ------             --------------   -----  \n",
      " 0   id                 257673 non-null  int64  \n",
      " 1   dur                257673 non-null  float64\n",
      " 2   proto              257673 non-null  object \n",
      " 3   service            257673 non-null  object \n",
      " 4   state              257673 non-null  object \n",
      " 5   spkts              257673 non-null  int64  \n",
      " 6   dpkts              257673 non-null  int64  \n",
      " 7   sbytes             257673 non-null  int64  \n",
      " 8   dbytes             257673 non-null  int64  \n",
      " 9   rate               257673 non-null  float64\n",
      " 10  sttl               257673 non-null  int64  \n",
      " 11  dttl               257673 non-null  int64  \n",
      " 12  sload              257673 non-null  float64\n",
      " 13  dload              257673 non-null  float64\n",
      " 14  sloss              257673 non-null  int64  \n",
      " 15  dloss              257673 non-null  int64  \n",
      " 16  sinpkt             257673 non-null  float64\n",
      " 17  dinpkt             257673 non-null  float64\n",
      " 18  sjit               257673 non-null  float64\n",
      " 19  djit               257673 non-null  float64\n",
      " 20  swin               257673 non-null  int64  \n",
      " 21  stcpb              257673 non-null  int64  \n",
      " 22  dtcpb              257673 non-null  int64  \n",
      " 23  dwin               257673 non-null  int64  \n",
      " 24  tcprtt             257673 non-null  float64\n",
      " 25  synack             257673 non-null  float64\n",
      " 26  ackdat             257673 non-null  float64\n",
      " 27  smean              257673 non-null  int64  \n",
      " 28  dmean              257673 non-null  int64  \n",
      " 29  trans_depth        257673 non-null  int64  \n",
      " 30  response_body_len  257673 non-null  int64  \n",
      " 31  ct_srv_src         257673 non-null  int64  \n",
      " 32  ct_state_ttl       257673 non-null  int64  \n",
      " 33  ct_dst_ltm         257673 non-null  int64  \n",
      " 34  ct_src_dport_ltm   257673 non-null  int64  \n",
      " 35  ct_dst_sport_ltm   257673 non-null  int64  \n",
      " 36  ct_dst_src_ltm     257673 non-null  int64  \n",
      " 37  is_ftp_login       257673 non-null  int64  \n",
      " 38  ct_ftp_cmd         257673 non-null  int64  \n",
      " 39  ct_flw_http_mthd   257673 non-null  int64  \n",
      " 40  ct_src_ltm         257673 non-null  int64  \n",
      " 41  ct_srv_dst         257673 non-null  int64  \n",
      " 42  is_sm_ips_ports    257673 non-null  int64  \n",
      " 43  attack_cat         257673 non-null  object \n",
      " 44  label              257673 non-null  int64  \n",
      "dtypes: float64(11), int64(30), object(4)\n",
      "memory usage: 90.4+ MB\n"
     ]
    }
   ],
   "source": [
    "df.info()"
   ]
  },
  {
   "cell_type": "code",
   "execution_count": 6,
   "id": "2142104f",
   "metadata": {},
   "outputs": [
    {
     "data": {
      "text/plain": [
       "id                   0\n",
       "dur                  0\n",
       "proto                0\n",
       "service              0\n",
       "state                0\n",
       "spkts                0\n",
       "dpkts                0\n",
       "sbytes               0\n",
       "dbytes               0\n",
       "rate                 0\n",
       "sttl                 0\n",
       "dttl                 0\n",
       "sload                0\n",
       "dload                0\n",
       "sloss                0\n",
       "dloss                0\n",
       "sinpkt               0\n",
       "dinpkt               0\n",
       "sjit                 0\n",
       "djit                 0\n",
       "swin                 0\n",
       "stcpb                0\n",
       "dtcpb                0\n",
       "dwin                 0\n",
       "tcprtt               0\n",
       "synack               0\n",
       "ackdat               0\n",
       "smean                0\n",
       "dmean                0\n",
       "trans_depth          0\n",
       "response_body_len    0\n",
       "ct_srv_src           0\n",
       "ct_state_ttl         0\n",
       "ct_dst_ltm           0\n",
       "ct_src_dport_ltm     0\n",
       "ct_dst_sport_ltm     0\n",
       "ct_dst_src_ltm       0\n",
       "is_ftp_login         0\n",
       "ct_ftp_cmd           0\n",
       "ct_flw_http_mthd     0\n",
       "ct_src_ltm           0\n",
       "ct_srv_dst           0\n",
       "is_sm_ips_ports      0\n",
       "attack_cat           0\n",
       "label                0\n",
       "dtype: int64"
      ]
     },
     "execution_count": 6,
     "metadata": {},
     "output_type": "execute_result"
    }
   ],
   "source": [
    "df.isnull().sum()"
   ]
  },
  {
   "cell_type": "code",
   "execution_count": 7,
   "id": "ce28734a",
   "metadata": {},
   "outputs": [],
   "source": [
    "df.replace([np.inf, -np.inf], np.nan, inplace=True)\n",
    "df.dropna(inplace=True)  "
   ]
  },
  {
   "cell_type": "code",
   "execution_count": 8,
   "id": "00163c94",
   "metadata": {},
   "outputs": [
    {
     "name": "stdout",
     "output_type": "stream",
     "text": [
      "0 fully duplicate rows to remove\n"
     ]
    }
   ],
   "source": [
    "print(df.duplicated().sum(), \"fully duplicate rows to remove\")"
   ]
  },
  {
   "cell_type": "code",
   "execution_count": 9,
   "id": "f5d42bd7",
   "metadata": {},
   "outputs": [],
   "source": [
    "df_encoded = df.copy()\n",
    "\n",
    "le = LabelEncoder()\n",
    "\n",
    "df_encoded['attack_cat'] = le.fit_transform(df['attack_cat'])\n",
    "\n",
    "X = df_encoded.drop('attack_cat', axis=1)\n",
    "y = df_encoded['attack_cat']"
   ]
  },
  {
   "cell_type": "code",
   "execution_count": 10,
   "id": "cc0e5664",
   "metadata": {},
   "outputs": [],
   "source": [
    "X = df.drop('attack_cat', axis=1)\n",
    "y = df['attack_cat']\n",
    "\n",
    "X_train, X_test, y_train, y_test = train_test_split(X, y, test_size=0.2, random_state=42, stratify=y)"
   ]
  },
  {
   "cell_type": "code",
   "execution_count": 11,
   "id": "cfdc2025",
   "metadata": {},
   "outputs": [
    {
     "name": "stdout",
     "output_type": "stream",
     "text": [
      "attack_cat\n",
      "Normal            74400\n",
      "Generic           47097\n",
      "Exploits          35620\n",
      "Fuzzers           19397\n",
      "DoS               13082\n",
      "Reconnaissance    11189\n",
      "Analysis           2142\n",
      "Backdoor           1863\n",
      "Shellcode          1209\n",
      "Worms               139\n",
      "Name: count, dtype: int64\n"
     ]
    }
   ],
   "source": [
    "print(y_train.value_counts())"
   ]
  },
  {
   "cell_type": "code",
   "execution_count": 10,
   "id": "9f39afae",
   "metadata": {},
   "outputs": [],
   "source": [
    "# One-hot encode categorical features\n",
    "categorical_columns = ['proto', 'service', 'state']  \n",
    "X = pd.get_dummies(df.drop('attack_cat', axis=1), columns=categorical_columns)\n",
    "y = df['attack_cat']\n",
    "\n",
    "# Split the data into training and test sets\n",
    "X_train, X_test, y_train, y_test = train_test_split(X, y, test_size=0.2, random_state=42)\n",
    "\n",
    "# Normalize the features\n",
    "scaler = MinMaxScaler()\n",
    "X_train_scaled = scaler.fit_transform(X_train)\n",
    "X_test_scaled = scaler.transform(X_test)\n",
    "\n",
    "# Reshape the data for Conv1D \n",
    "X_train_scaled = X_train_scaled.reshape((X_train_scaled.shape[0], X_train_scaled.shape[1], 1))\n",
    "X_test_scaled = X_test_scaled.reshape((X_test_scaled.shape[0], X_test_scaled.shape[1], 1))\n",
    "\n",
    "encoder = OneHotEncoder(sparse_output=False)\n",
    "y_train_one_hot = encoder.fit_transform(y_train.values.reshape(-1, 1))\n",
    "y_test_one_hot = encoder.transform(y_test.values.reshape(-1, 1))\n"
   ]
  },
  {
   "cell_type": "code",
   "execution_count": 12,
   "id": "f6683c74",
   "metadata": {},
   "outputs": [],
   "source": [
    "# One-hot encode categorical features\n",
    "categorical_columns = ['proto', 'service', 'state']\n",
    "df_encoded = pd.get_dummies(df, columns=categorical_columns)\n",
    "\n",
    "X = df_encoded.drop(['attack_cat'], axis=1)\n",
    "y = df_encoded['attack_cat']\n",
    "\n",
    "# Encode the target variable for multi-class classification\n",
    "label_encoder = LabelEncoder()\n",
    "y_encoded = label_encoder.fit_transform(y)\n",
    "\n",
    "y_encoded_one_hot = to_categorical(y_encoded)\n",
    "\n",
    "X_train, X_test, y_train, y_test = train_test_split(X, y_encoded_one_hot, test_size=0.2, random_state=42)\n",
    "\n",
    "X_train_reshaped = X_train_scaled.reshape((X_train_scaled.shape[0], 1, X_train_scaled.shape[1]))\n",
    "X_test_reshaped = X_test_scaled.reshape((X_test_scaled.shape[0], 1, X_test_scaled.shape[1]))"
   ]
  },
  {
   "cell_type": "markdown",
   "id": "09c3435f",
   "metadata": {},
   "source": [
    "## LSTM without Finetuning"
   ]
  },
  {
   "cell_type": "code",
   "execution_count": null,
   "id": "f51c4471-c6f1-4a0e-a124-fef2535d0741",
   "metadata": {},
   "outputs": [],
   "source": [
    "nvidia-smi | grep 'python' | awk '{ print $3 }' | xargs -n1 kill -9\n"
   ]
  },
  {
   "cell_type": "code",
   "execution_count": 11,
   "id": "6c98a895",
   "metadata": {},
   "outputs": [],
   "source": [
    "import tensorflow as tf\n",
    "\n",
    "# Specify the GPU to use\n",
    "gpu_device = '/device:GPU:1'"
   ]
  },
  {
   "cell_type": "code",
   "execution_count": 14,
   "id": "c31d8695",
   "metadata": {},
   "outputs": [
    {
     "ename": "AttributeError",
     "evalue": "'numpy.ndarray' object has no attribute 'value_counts'",
     "output_type": "error",
     "traceback": [
      "\u001b[0;31m---------------------------------------------------------------------------\u001b[0m",
      "\u001b[0;31mAttributeError\u001b[0m                            Traceback (most recent call last)",
      "Cell \u001b[0;32mIn[14], line 1\u001b[0m\n\u001b[0;32m----> 1\u001b[0m \u001b[43mX_train_scaled\u001b[49m\u001b[38;5;241;43m.\u001b[39;49m\u001b[43mvalue_counts\u001b[49m()\n",
      "\u001b[0;31mAttributeError\u001b[0m: 'numpy.ndarray' object has no attribute 'value_counts'"
     ]
    }
   ],
   "source": [
    "X_train_scaled.value_counts()"
   ]
  },
  {
   "cell_type": "code",
   "execution_count": 12,
   "id": "dda9535b",
   "metadata": {},
   "outputs": [
    {
     "ename": "RuntimeError",
     "evalue": "Bad StatusOr access: INTERNAL: failed initializing StreamExecutor for CUDA device ordinal 0: INTERNAL: failed call to cuDevicePrimaryCtxRetain: CUDA_ERROR_OUT_OF_MEMORY: out of memory; total memory reported: 84974239744",
     "output_type": "error",
     "traceback": [
      "\u001b[0;31m---------------------------------------------------------------------------\u001b[0m",
      "\u001b[0;31mRuntimeError\u001b[0m                              Traceback (most recent call last)",
      "Cell \u001b[0;32mIn[12], line 1\u001b[0m\n\u001b[0;32m----> 1\u001b[0m \u001b[38;5;28;01mwith\u001b[39;00m \u001b[43mtf\u001b[49m\u001b[38;5;241;43m.\u001b[39;49m\u001b[43mdevice\u001b[49m\u001b[43m(\u001b[49m\u001b[43mgpu_device\u001b[49m\u001b[43m)\u001b[49m:\n\u001b[1;32m      2\u001b[0m \n\u001b[1;32m      3\u001b[0m     \u001b[38;5;66;03m# Build the LSTM model for multi-class classification\u001b[39;00m\n\u001b[1;32m      4\u001b[0m     model \u001b[38;5;241m=\u001b[39m Sequential()\n\u001b[1;32m      5\u001b[0m     model\u001b[38;5;241m.\u001b[39madd(LSTM(units\u001b[38;5;241m=\u001b[39m\u001b[38;5;241m50\u001b[39m, input_shape\u001b[38;5;241m=\u001b[39m(X_train_reshaped\u001b[38;5;241m.\u001b[39mshape[\u001b[38;5;241m1\u001b[39m], X_train_reshaped\u001b[38;5;241m.\u001b[39mshape[\u001b[38;5;241m2\u001b[39m])))\n",
      "File \u001b[0;32m~/anaconda3/envs/tf_env/lib/python3.10/site-packages/tensorflow/python/framework/ops.py:4379\u001b[0m, in \u001b[0;36mdevice_v2\u001b[0;34m(device_name)\u001b[0m\n\u001b[1;32m   4377\u001b[0m \u001b[38;5;28;01mif\u001b[39;00m \u001b[38;5;28mcallable\u001b[39m(device_name):\n\u001b[1;32m   4378\u001b[0m   \u001b[38;5;28;01mraise\u001b[39;00m \u001b[38;5;167;01mRuntimeError\u001b[39;00m(\u001b[38;5;124m\"\u001b[39m\u001b[38;5;124mtf.device does not support functions.\u001b[39m\u001b[38;5;124m\"\u001b[39m)\n\u001b[0;32m-> 4379\u001b[0m \u001b[38;5;28;01mreturn\u001b[39;00m \u001b[43mdevice\u001b[49m\u001b[43m(\u001b[49m\u001b[43mdevice_name\u001b[49m\u001b[43m)\u001b[49m\n",
      "File \u001b[0;32m~/anaconda3/envs/tf_env/lib/python3.10/site-packages/tensorflow/python/framework/ops.py:4328\u001b[0m, in \u001b[0;36mdevice\u001b[0;34m(device_name_or_function)\u001b[0m\n\u001b[1;32m   4324\u001b[0m   \u001b[38;5;28;01mif\u001b[39;00m \u001b[38;5;28mcallable\u001b[39m(device_name_or_function):\n\u001b[1;32m   4325\u001b[0m     \u001b[38;5;28;01mraise\u001b[39;00m \u001b[38;5;167;01mRuntimeError\u001b[39;00m(\n\u001b[1;32m   4326\u001b[0m         \u001b[38;5;124m\"\u001b[39m\u001b[38;5;124mtf.device does not support functions when eager execution \u001b[39m\u001b[38;5;124m\"\u001b[39m\n\u001b[1;32m   4327\u001b[0m         \u001b[38;5;124m\"\u001b[39m\u001b[38;5;124mis enabled.\u001b[39m\u001b[38;5;124m\"\u001b[39m)\n\u001b[0;32m-> 4328\u001b[0m   \u001b[38;5;28;01mreturn\u001b[39;00m \u001b[43mcontext\u001b[49m\u001b[38;5;241;43m.\u001b[39;49m\u001b[43mdevice\u001b[49m\u001b[43m(\u001b[49m\u001b[43mdevice_name_or_function\u001b[49m\u001b[43m)\u001b[49m\n\u001b[1;32m   4329\u001b[0m \u001b[38;5;28;01melif\u001b[39;00m executing_eagerly_outside_functions():\n\u001b[1;32m   4330\u001b[0m   \u001b[38;5;129m@tf_contextlib\u001b[39m\u001b[38;5;241m.\u001b[39mcontextmanager\n\u001b[1;32m   4331\u001b[0m   \u001b[38;5;28;01mdef\u001b[39;00m \u001b[38;5;21mcombined\u001b[39m(device_name_or_function):\n",
      "File \u001b[0;32m~/anaconda3/envs/tf_env/lib/python3.10/site-packages/tensorflow/python/eager/context.py:2454\u001b[0m, in \u001b[0;36mdevice\u001b[0;34m(name)\u001b[0m\n\u001b[1;32m   2434\u001b[0m \u001b[38;5;28;01mdef\u001b[39;00m \u001b[38;5;21mdevice\u001b[39m(name):\n\u001b[1;32m   2435\u001b[0m \u001b[38;5;250m  \u001b[39m\u001b[38;5;124;03m\"\"\"Context-manager to force placement of operations and Tensors on a device.\u001b[39;00m\n\u001b[1;32m   2436\u001b[0m \n\u001b[1;32m   2437\u001b[0m \u001b[38;5;124;03m  Example:\u001b[39;00m\n\u001b[0;32m   (...)\u001b[0m\n\u001b[1;32m   2452\u001b[0m \u001b[38;5;124;03m    Context manager for setting the device.\u001b[39;00m\n\u001b[1;32m   2453\u001b[0m \u001b[38;5;124;03m  \"\"\"\u001b[39;00m\n\u001b[0;32m-> 2454\u001b[0m   \u001b[43mensure_initialized\u001b[49m\u001b[43m(\u001b[49m\u001b[43m)\u001b[49m\n\u001b[1;32m   2455\u001b[0m   \u001b[38;5;28;01mreturn\u001b[39;00m context()\u001b[38;5;241m.\u001b[39mdevice(name)\n",
      "File \u001b[0;32m~/anaconda3/envs/tf_env/lib/python3.10/site-packages/tensorflow/python/eager/context.py:2249\u001b[0m, in \u001b[0;36mensure_initialized\u001b[0;34m()\u001b[0m\n\u001b[1;32m   2247\u001b[0m \u001b[38;5;28;01mdef\u001b[39;00m \u001b[38;5;21mensure_initialized\u001b[39m():\n\u001b[1;32m   2248\u001b[0m \u001b[38;5;250m  \u001b[39m\u001b[38;5;124;03m\"\"\"Initialize the context.\"\"\"\u001b[39;00m\n\u001b[0;32m-> 2249\u001b[0m   \u001b[43mcontext\u001b[49m\u001b[43m(\u001b[49m\u001b[43m)\u001b[49m\u001b[38;5;241;43m.\u001b[39;49m\u001b[43mensure_initialized\u001b[49m\u001b[43m(\u001b[49m\u001b[43m)\u001b[49m\n",
      "File \u001b[0;32m~/anaconda3/envs/tf_env/lib/python3.10/site-packages/tensorflow/python/eager/context.py:598\u001b[0m, in \u001b[0;36mContext.ensure_initialized\u001b[0;34m(self)\u001b[0m\n\u001b[1;32m    595\u001b[0m   pywrap_tfe\u001b[38;5;241m.\u001b[39mTFE_ContextOptionsSetRunEagerOpAsFunction(opts, \u001b[38;5;28;01mTrue\u001b[39;00m)\n\u001b[1;32m    596\u001b[0m   pywrap_tfe\u001b[38;5;241m.\u001b[39mTFE_ContextOptionsSetJitCompileRewrite(\n\u001b[1;32m    597\u001b[0m       opts, \u001b[38;5;28mself\u001b[39m\u001b[38;5;241m.\u001b[39m_jit_compile_rewrite)\n\u001b[0;32m--> 598\u001b[0m   context_handle \u001b[38;5;241m=\u001b[39m \u001b[43mpywrap_tfe\u001b[49m\u001b[38;5;241;43m.\u001b[39;49m\u001b[43mTFE_NewContext\u001b[49m\u001b[43m(\u001b[49m\u001b[43mopts\u001b[49m\u001b[43m)\u001b[49m\n\u001b[1;32m    599\u001b[0m \u001b[38;5;28;01mfinally\u001b[39;00m:\n\u001b[1;32m    600\u001b[0m   pywrap_tfe\u001b[38;5;241m.\u001b[39mTFE_DeleteContextOptions(opts)\n",
      "\u001b[0;31mRuntimeError\u001b[0m: Bad StatusOr access: INTERNAL: failed initializing StreamExecutor for CUDA device ordinal 0: INTERNAL: failed call to cuDevicePrimaryCtxRetain: CUDA_ERROR_OUT_OF_MEMORY: out of memory; total memory reported: 84974239744"
     ]
    }
   ],
   "source": [
    "with tf.device(gpu_device):\n",
    "\n",
    "    # Build the LSTM model for multi-class classification\n",
    "    model = Sequential()\n",
    "    model.add(LSTM(units=50, input_shape=(X_train_reshaped.shape[1], X_train_reshaped.shape[2])))\n",
    "    model.add(Dropout(0.2))\n",
    "    model.add(Dense(units=len(df['attack_cat'].unique()), activation='softmax'))  \n",
    "\n",
    "        # Compile the model\n",
    "    model.compile(optimizer='adam', loss='categorical_crossentropy', metrics=['accuracy'])\n",
    "\n",
    "        # Train the model\n",
    "    model.fit(X_train_reshaped, y_train, epochs=10, batch_size=64, validation_split=0.2)"
   ]
  },
  {
   "cell_type": "code",
   "execution_count": 15,
   "id": "7050ba3a",
   "metadata": {},
   "outputs": [
    {
     "name": "stdout",
     "output_type": "stream",
     "text": [
      "   1/1611 [..............................] - ETA: 46s - loss: 0.5037 - accuracy: 0.8438"
     ]
    },
    {
     "name": "stdout",
     "output_type": "stream",
     "text": [
      "1611/1611 [==============================] - 2s 1ms/step - loss: 0.3848 - accuracy: 0.8550\n",
      "Test Accuracy: 85.50%\n",
      "Test Loss: 38.48%\n"
     ]
    }
   ],
   "source": [
    "# Evaluate the model on the test set\n",
    "test_loss, test_accuracy = model.evaluate(X_test_reshaped, y_test)\n",
    "\n",
    "print(\"Test Accuracy: {:.2f}%\".format(test_accuracy * 100))\n",
    "print(\"Test Loss: {:.2f}%\".format(test_loss * 100))"
   ]
  },
  {
   "cell_type": "code",
   "execution_count": 16,
   "id": "e92cb642",
   "metadata": {},
   "outputs": [
    {
     "name": "stdout",
     "output_type": "stream",
     "text": [
      "1611/1611 [==============================] - 2s 983us/step\n"
     ]
    },
    {
     "name": "stderr",
     "output_type": "stream",
     "text": [
      "/x1/rsingh8/anaconda3/envs/tf_env/lib/python3.10/site-packages/sklearn/metrics/_classification.py:1497: UndefinedMetricWarning: Precision is ill-defined and being set to 0.0 in labels with no predicted samples. Use `zero_division` parameter to control this behavior.\n",
      "  _warn_prf(average, modifier, f\"{metric.capitalize()} is\", len(result))\n",
      "/x1/rsingh8/anaconda3/envs/tf_env/lib/python3.10/site-packages/sklearn/metrics/_classification.py:1497: UndefinedMetricWarning: Precision is ill-defined and being set to 0.0 in labels with no predicted samples. Use `zero_division` parameter to control this behavior.\n",
      "  _warn_prf(average, modifier, f\"{metric.capitalize()} is\", len(result))\n"
     ]
    },
    {
     "name": "stdout",
     "output_type": "stream",
     "text": [
      "                precision    recall  f1-score   support\n",
      "\n",
      "      Analysis       0.71      0.12      0.21       538\n",
      "      Backdoor       0.00      0.00      0.00       471\n",
      "           DoS       0.29      0.05      0.08      3293\n",
      "      Exploits       0.60      0.91      0.72      8853\n",
      "       Fuzzers       0.81      0.81      0.81      4742\n",
      "       Generic       1.00      0.98      0.99     11849\n",
      "        Normal       1.00      1.00      1.00     18675\n",
      "Reconnaissance       0.71      0.62      0.66      2770\n",
      "     Shellcode       0.58      0.02      0.04       318\n",
      "         Worms       0.00      0.00      0.00        26\n",
      "\n",
      "      accuracy                           0.85     51535\n",
      "     macro avg       0.57      0.45      0.45     51535\n",
      "  weighted avg       0.84      0.85      0.83     51535\n",
      "\n"
     ]
    },
    {
     "name": "stderr",
     "output_type": "stream",
     "text": [
      "/x1/rsingh8/anaconda3/envs/tf_env/lib/python3.10/site-packages/sklearn/metrics/_classification.py:1497: UndefinedMetricWarning: Precision is ill-defined and being set to 0.0 in labels with no predicted samples. Use `zero_division` parameter to control this behavior.\n",
      "  _warn_prf(average, modifier, f\"{metric.capitalize()} is\", len(result))\n"
     ]
    }
   ],
   "source": [
    "from sklearn.metrics import classification_report\n",
    "import numpy as np\n",
    "\n",
    "y_pred = model.predict(X_test_reshaped)\n",
    "y_pred_classes = np.argmax(y_pred, axis=1)\n",
    "\n",
    "y_test_original = label_encoder.inverse_transform(y_test.argmax(axis=1))\n",
    "y_pred_original = label_encoder.inverse_transform(y_pred_classes)\n",
    "\n",
    "class_names = np.unique(y_test_original)\n",
    "\n",
    "# Classification report\n",
    "report = classification_report(y_test_original, y_pred_original, target_names=class_names)\n",
    "print(report)\n"
   ]
  },
  {
   "cell_type": "code",
   "execution_count": 29,
   "id": "9bf30b55",
   "metadata": {},
   "outputs": [],
   "source": [
    "class_names = label_encoder.inverse_transform(y_encoded)\n"
   ]
  },
  {
   "cell_type": "code",
   "execution_count": 17,
   "id": "9536dfa0",
   "metadata": {},
   "outputs": [],
   "source": [
    "class_names = label_encoder.classes_\n"
   ]
  },
  {
   "cell_type": "code",
   "execution_count": 18,
   "id": "46513775",
   "metadata": {},
   "outputs": [
    {
     "data": {
      "text/plain": [
       "array(['Analysis', 'Backdoor', 'DoS', 'Exploits', 'Fuzzers', 'Generic',\n",
       "       'Normal', 'Reconnaissance', 'Shellcode', 'Worms'], dtype=object)"
      ]
     },
     "execution_count": 18,
     "metadata": {},
     "output_type": "execute_result"
    }
   ],
   "source": [
    "class_names"
   ]
  },
  {
   "cell_type": "code",
   "execution_count": 19,
   "id": "6923268b",
   "metadata": {},
   "outputs": [
    {
     "data": {
      "image/png": "[encoded data removed]",
      "text/plain": [
       "<Figure size 1000x800 with 2 Axes>"
      ]
     },
     "metadata": {},
     "output_type": "display_data"
    }
   ],
   "source": [
    "y_true_indices = np.argmax(y_test, axis=1)\n",
    "y_pred_indices = np.argmax(y_pred, axis=1)\n",
    "\n",
    "\n",
    "\n",
    "\n",
    "# Generate confusion matrix\n",
    "conf_matrix = confusion_matrix(y_true_indices, y_pred_indices)\n",
    "\n",
    "# Plot confusion matrix\n",
    "plt.figure(figsize=(10, 8))\n",
    "sns.heatmap(conf_matrix, annot=True, fmt='d', cmap='Blues', xticklabels=class_names, yticklabels=class_names)\n",
    "plt.title('Confusion Matrix')\n",
    "plt.ylabel('True Class')\n",
    "plt.xlabel('Predicted Class')\n",
    "plt.show()"
   ]
  },
  {
   "cell_type": "markdown",
   "id": "76f66559",
   "metadata": {},
   "source": [
    "## LSTM with Finetuning"
   ]
  },
  {
   "cell_type": "code",
   "execution_count": 20,
   "id": "3ea2f36c",
   "metadata": {},
   "outputs": [
    {
     "name": "stdout",
     "output_type": "stream",
     "text": [
      "Epoch 1/10\n",
      "2577/2577 [==============================] - 19s 7ms/step - loss: 0.5353 - accuracy: 0.8150 - val_loss: 0.4202 - val_accuracy: 0.8476 - lr: 0.0010\n",
      "Epoch 2/10\n",
      "2577/2577 [==============================] - 16s 6ms/step - loss: 0.4238 - accuracy: 0.8465 - val_loss: 0.4062 - val_accuracy: 0.8488 - lr: 0.0010\n",
      "Epoch 3/10\n",
      "2577/2577 [==============================] - 16s 6ms/step - loss: 0.4106 - accuracy: 0.8503 - val_loss: 0.3894 - val_accuracy: 0.8550 - lr: 0.0010\n",
      "Epoch 4/10\n",
      "2577/2577 [==============================] - 16s 6ms/step - loss: 0.4024 - accuracy: 0.8520 - val_loss: 0.3883 - val_accuracy: 0.8543 - lr: 0.0010\n",
      "Epoch 5/10\n",
      "2577/2577 [==============================] - 16s 6ms/step - loss: 0.3966 - accuracy: 0.8532 - val_loss: 0.3815 - val_accuracy: 0.8564 - lr: 0.0010\n",
      "Epoch 6/10\n",
      "2577/2577 [==============================] - 16s 6ms/step - loss: 0.3909 - accuracy: 0.8547 - val_loss: 0.3761 - val_accuracy: 0.8589 - lr: 0.0010\n",
      "Epoch 7/10\n",
      "2577/2577 [==============================] - 16s 6ms/step - loss: 0.3865 - accuracy: 0.8559 - val_loss: 0.3732 - val_accuracy: 0.8600 - lr: 0.0010\n",
      "Epoch 8/10\n",
      "2577/2577 [==============================] - 16s 6ms/step - loss: 0.3833 - accuracy: 0.8571 - val_loss: 0.3708 - val_accuracy: 0.8604 - lr: 0.0010\n",
      "Epoch 9/10\n",
      "2577/2577 [==============================] - 17s 6ms/step - loss: 0.3796 - accuracy: 0.8577 - val_loss: 0.3684 - val_accuracy: 0.8609 - lr: 0.0010\n",
      "Epoch 10/10\n",
      "2577/2577 [==============================] - 16s 6ms/step - loss: 0.3762 - accuracy: 0.8589 - val_loss: 0.3661 - val_accuracy: 0.8611 - lr: 0.0010\n"
     ]
    },
    {
     "data": {
      "text/plain": [
       "<keras.src.callbacks.History at 0x7fe660ba0c40>"
      ]
     },
     "execution_count": 20,
     "metadata": {},
     "output_type": "execute_result"
    }
   ],
   "source": [
    "lstm_with_finetuning = Sequential()\n",
    "lstm_with_finetuning.add(LSTM(units=100, input_shape=(X_train_reshaped.shape[1], X_train_reshaped.shape[2]), return_sequences=True))\n",
    "lstm_with_finetuning.add(Dropout(0.2))\n",
    "lstm_with_finetuning.add(LSTM(units=50))\n",
    "lstm_with_finetuning.add(Dropout(0.2))\n",
    "lstm_with_finetuning.add(Dense(units=len(df['attack_cat'].unique()), activation='softmax'))\n",
    "\n",
    "# Compile the model\n",
    "lstm_with_finetuning.compile(optimizer='adam', loss='categorical_crossentropy', metrics=['accuracy'])\n",
    "\n",
    "# Define callbacks\n",
    "early_stopping = EarlyStopping(monitor='val_loss', patience=3, restore_best_weights=True)\n",
    "reduce_lr = ReduceLROnPlateau(monitor='val_loss', factor=0.2, patience=2, min_lr=1e-6)\n",
    "\n",
    "# Train the model with callbacks\n",
    "lstm_with_finetuning.fit(\n",
    "    X_train_reshaped, y_train,\n",
    "    epochs=10,\n",
    "    batch_size=64,\n",
    "    validation_split=0.2,\n",
    "    callbacks=[early_stopping, reduce_lr]\n",
    ")"
   ]
  },
  {
   "cell_type": "code",
   "execution_count": 21,
   "id": "23ab4bed",
   "metadata": {},
   "outputs": [
    {
     "name": "stdout",
     "output_type": "stream",
     "text": [
      "1611/1611 [==============================] - 5s 3ms/step - loss: 0.3650 - accuracy: 0.8596\n",
      "Test Accuracy: 85.96%\n",
      "Test Loss: 36.50%\n"
     ]
    }
   ],
   "source": [
    "# Evaluate the model on the test set\n",
    "test_loss, test_accuracy = lstm_with_finetuning.evaluate(X_test_reshaped, y_test)\n",
    "\n",
    "print(\"Test Accuracy: {:.2f}%\".format(test_accuracy * 100))\n",
    "print(\"Test Loss: {:.2f}%\".format(test_loss * 100))"
   ]
  },
  {
   "cell_type": "code",
   "execution_count": 22,
   "id": "c9262f2c",
   "metadata": {},
   "outputs": [
    {
     "name": "stdout",
     "output_type": "stream",
     "text": [
      "1611/1611 [==============================] - 4s 2ms/step\n"
     ]
    },
    {
     "name": "stderr",
     "output_type": "stream",
     "text": [
      "/x1/rsingh8/anaconda3/envs/tf_env/lib/python3.10/site-packages/sklearn/metrics/_classification.py:1497: UndefinedMetricWarning: Precision is ill-defined and being set to 0.0 in labels with no predicted samples. Use `zero_division` parameter to control this behavior.\n",
      "  _warn_prf(average, modifier, f\"{metric.capitalize()} is\", len(result))\n",
      "/x1/rsingh8/anaconda3/envs/tf_env/lib/python3.10/site-packages/sklearn/metrics/_classification.py:1497: UndefinedMetricWarning: Precision is ill-defined and being set to 0.0 in labels with no predicted samples. Use `zero_division` parameter to control this behavior.\n",
      "  _warn_prf(average, modifier, f\"{metric.capitalize()} is\", len(result))\n"
     ]
    },
    {
     "name": "stdout",
     "output_type": "stream",
     "text": [
      "                precision    recall  f1-score   support\n",
      "\n",
      "      Analysis       0.70      0.11      0.20       538\n",
      "      Backdoor       1.00      0.00      0.00       471\n",
      "           DoS       0.36      0.03      0.05      3293\n",
      "      Exploits       0.60      0.88      0.72      8853\n",
      "       Fuzzers       0.84      0.82      0.83      4742\n",
      "       Generic       1.00      0.97      0.99     11849\n",
      "        Normal       1.00      1.00      1.00     18675\n",
      "Reconnaissance       0.67      0.77      0.72      2770\n",
      "     Shellcode       0.59      0.20      0.30       318\n",
      "         Worms       0.00      0.00      0.00        26\n",
      "\n",
      "      accuracy                           0.86     51535\n",
      "     macro avg       0.68      0.48      0.48     51535\n",
      "  weighted avg       0.85      0.86      0.83     51535\n",
      "\n"
     ]
    },
    {
     "name": "stderr",
     "output_type": "stream",
     "text": [
      "/x1/rsingh8/anaconda3/envs/tf_env/lib/python3.10/site-packages/sklearn/metrics/_classification.py:1497: UndefinedMetricWarning: Precision is ill-defined and being set to 0.0 in labels with no predicted samples. Use `zero_division` parameter to control this behavior.\n",
      "  _warn_prf(average, modifier, f\"{metric.capitalize()} is\", len(result))\n"
     ]
    }
   ],
   "source": [
    "y_pred = lstm_with_finetuning.predict(X_test_reshaped)\n",
    "y_pred_classes = np.argmax(y_pred, axis=1)\n",
    "\n",
    "y_test_original = label_encoder.inverse_transform(y_test.argmax(axis=1))\n",
    "y_pred_original = label_encoder.inverse_transform(y_pred_classes)\n",
    "\n",
    "class_names = np.unique(y_test_original)\n",
    "\n",
    "# Classification report\n",
    "report = classification_report(y_test_original, y_pred_original, target_names=class_names)\n",
    "print(report)"
   ]
  },
  {
   "cell_type": "code",
   "execution_count": 25,
   "id": "365e1a44",
   "metadata": {},
   "outputs": [
    {
     "name": "stderr",
     "output_type": "stream",
     "text": [
      "/x1/rsingh8/anaconda3/envs/tf_env/lib/python3.10/site-packages/sklearn/metrics/_classification.py:1497: UndefinedMetricWarning: Precision is ill-defined and being set to 0.0 in labels with no predicted samples. Use `zero_division` parameter to control this behavior.\n",
      "  _warn_prf(average, modifier, f\"{metric.capitalize()} is\", len(result))\n"
     ]
    },
    {
     "name": "stdout",
     "output_type": "stream",
     "text": [
      "Precision: 0.8516120285696012\n",
      "Recall: 0.8596293780925585\n",
      "F1 Score: 0.834070683683515\n",
      "Accuracy: 0.8596293780925585\n"
     ]
    }
   ],
   "source": [
    "from sklearn.metrics import precision_score, recall_score, f1_score, accuracy_score\n",
    "\n",
    "precision = precision_score(y_test_original, y_pred_original, average='weighted')\n",
    "recall = recall_score(y_test_original, y_pred_original, average='weighted')\n",
    "f1 = f1_score(y_test_original, y_pred_original, average='weighted')\n",
    "accuracy = accuracy_score(y_test_original, y_pred_original)\n",
    "\n",
    "print(f'Precision: {precision}')\n",
    "print(f'Recall: {recall}')\n",
    "print(f'F1 Score: {f1}')\n",
    "print(f'Accuracy: {accuracy}')\n"
   ]
  },
  {
   "cell_type": "code",
   "execution_count": 24,
   "id": "d4d42e39",
   "metadata": {},
   "outputs": [
    {
     "data": {
      "image/png": "[encoded data removed]",
      "text/plain": [
       "<Figure size 1000x800 with 2 Axes>"
      ]
     },
     "metadata": {},
     "output_type": "display_data"
    }
   ],
   "source": [
    "y_true_indices = np.argmax(y_test, axis=1)\n",
    "y_pred_indices = np.argmax(y_pred, axis=1)\n",
    "\n",
    "class_names = np.unique(y_test_original)\n",
    "\n",
    "# Generate confusion matrix\n",
    "conf_matrix = confusion_matrix(y_true_indices, y_pred_indices)\n",
    "\n",
    "# Plot confusion matrix\n",
    "plt.figure(figsize=(10, 8))\n",
    "sns.heatmap(conf_matrix, annot=True, fmt='d', cmap='Blues', xticklabels=class_names, yticklabels=class_names)\n",
    "plt.title('Confusion Matrix')\n",
    "plt.ylabel('True Class')\n",
    "plt.xlabel('Predicted Class')\n",
    "plt.show()"
   ]
  }
 ],
 "metadata": {
  "kernelspec": {
   "display_name": "tf_env",
   "language": "python",
   "name": "tf_env"
  },
  "language_info": {
   "codemirror_mode": {
    "name": "ipython",
    "version": 3
   },
   "file_extension": ".py",
   "mimetype": "text/x-python",
   "name": "python",
   "nbconvert_exporter": "python",
   "pygments_lexer": "ipython3",
   "version": "3.10.13"
  }
 },
 "nbformat": 4,
 "nbformat_minor": 5
}
